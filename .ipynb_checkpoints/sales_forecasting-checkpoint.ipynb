{
 "cells": [
  {
   "cell_type": "markdown",
   "id": "5e0a3280",
   "metadata": {},
   "source": [
    "# Sales Forecasting for a Specific Item in a Specific Store\n",
    "\n",
    "This project aims to forecast future sales for a particular item in a particular store using historical sales data. We will perform exploratory data analysis (EDA), build ARIMA and SARIMAX models, and compare their performance to select the best approach for forecasting."
   ]
  },
  {
   "cell_type": "markdown",
   "id": "5b153563",
   "metadata": {},
   "source": [
    "## 1. Import Required Libraries\n",
    "We will import all necessary libraries for data analysis, visualization, and time series modeling."
   ]
  },
  {
   "cell_type": "code",
   "execution_count": null,
   "id": "cef805bd",
   "metadata": {},
   "outputs": [],
   "source": [
    "import pandas as pd\n",
    "import numpy as np\n",
    "import matplotlib.pyplot as plt\n",
    "import seaborn as sns\n",
    "from statsmodels.tsa.stattools import adfuller\n",
    "from statsmodels.tsa.arima.model import ARIMA\n",
    "from statsmodels.tsa.statespace.sarimax import SARIMAX\n",
    "from statsmodels.graphics.tsaplots import plot_acf, plot_pacf\n",
    "from sklearn.metrics import mean_squared_error, mean_absolute_error\n",
    "import warnings\n",
    "warnings.filterwarnings('ignore')\n",
    "%matplotlib inline"
   ]
  },
  {
   "cell_type": "markdown",
   "id": "4a52807d",
   "metadata": {},
   "source": [
    "## 2. Load and Inspect Dataset\n",
    "Load the sales data and perform initial inspection for missing values and data types."
   ]
  },
  {
   "cell_type": "code",
   "execution_count": null,
   "id": "ebba90d1",
   "metadata": {},
   "outputs": [],
   "source": [
    "# Load the dataset\n",
    "df = pd.read_csv('data/train.csv', parse_dates=['date'])\n",
    "\n",
    "# Display the first few rows\n",
    "display(df.head())\n",
    "\n",
    "# Check for missing values\n",
    "display(df.isnull().sum())\n",
    "\n",
    "# Check data types\n",
    "display(df.dtypes)\n",
    "\n",
    "# Basic info\n",
    "df.info()"
   ]
  },
  {
   "cell_type": "markdown",
   "id": "c4487c3a",
   "metadata": {},
   "source": [
    "## 3. Filter Data for Specific Store and Item\n",
    "For this analysis, we will focus on sales for Store 1 and Item 1. You can change these values as needed."
   ]
  },
  {
   "cell_type": "code",
   "execution_count": null,
   "id": "48932a95",
   "metadata": {},
   "outputs": [],
   "source": [
    "# Select store and item for forecasting\n",
    "store_id = 1\n",
    "item_id = 1\n",
    "\n",
    "df_filtered = df[(df['store'] == store_id) & (df['item'] == item_id)].copy()\n",
    "df_filtered = df_filtered.sort_values('date')\n",
    "df_filtered.set_index('date', inplace=True)\n",
    "display(df_filtered.head())\n",
    "\n",
    "# Plot sales over time\n",
    "plt.figure(figsize=(12, 5))\n",
    "plt.plot(df_filtered['sales'])\n",
    "plt.title(f'Sales Over Time for Store {store_id}, Item {item_id}')\n",
    "plt.xlabel('Date')\n",
    "plt.ylabel('Sales')\n",
    "plt.show()"
   ]
  },
  {
   "cell_type": "markdown",
   "id": "16fba238",
   "metadata": {},
   "source": [
    "## 4. Exploratory Data Analysis (EDA)\n",
    "Visualize the sales time series, analyze trends, seasonality, and autocorrelation."
   ]
  },
  {
   "cell_type": "code",
   "execution_count": null,
   "id": "6dcd0ff3",
   "metadata": {},
   "outputs": [],
   "source": [
    "# Plot rolling mean and std\n",
    "df_filtered['sales_rolling_mean'] = df_filtered['sales'].rolling(window=30).mean()\n",
    "df_filtered['sales_rolling_std'] = df_filtered['sales'].rolling(window=30).std()\n",
    "\n",
    "plt.figure(figsize=(12, 5))\n",
    "plt.plot(df_filtered['sales'], label='Sales')\n",
    "plt.plot(df_filtered['sales_rolling_mean'], label='30-day Rolling Mean')\n",
    "plt.plot(df_filtered['sales_rolling_std'], label='30-day Rolling Std')\n",
    "plt.legend()\n",
    "plt.title('Sales with Rolling Mean and Std')\n",
    "plt.show()\n",
    "\n",
    "# Plot ACF and PACF\n",
    "fig, axes = plt.subplots(1, 2, figsize=(16, 4))\n",
    "plot_acf(df_filtered['sales'], lags=50, ax=axes[0])\n",
    "plot_pacf(df_filtered['sales'], lags=50, ax=axes[1])\n",
    "plt.show()"
   ]
  },
  {
   "cell_type": "markdown",
   "id": "eb881ade",
   "metadata": {},
   "source": [
    "## 5. Check for Stationarity\n",
    "Perform the Augmented Dickey-Fuller (ADF) test and visualize rolling statistics to assess stationarity."
   ]
  },
  {
   "cell_type": "code",
   "execution_count": null,
   "id": "3a748c8d",
   "metadata": {},
   "outputs": [],
   "source": [
    "# Augmented Dickey-Fuller test\n",
    "def adf_test(series):\n",
    "    result = adfuller(series)\n",
    "    print('ADF Statistic:', result[0])\n",
    "    print('p-value:', result[1])\n",
    "    for key, value in result[4].items():\n",
    "        print(f'Critical Value {key}: {value}')\n",
    "    if result[1] < 0.05:\n",
    "        print('Series is likely stationary.')\n",
    "    else:\n",
    "        print('Series is likely non-stationary.')\n",
    "\n",
    "adf_test(df_filtered['sales'])\n",
    "\n",
    "# Plot rolling mean and std again for visual check\n",
    "plt.figure(figsize=(12, 5))\n",
    "plt.plot(df_filtered['sales'], label='Sales')\n",
    "plt.plot(df_filtered['sales_rolling_mean'], label='30-day Rolling Mean')\n",
    "plt.plot(df_filtered['sales_rolling_std'], label='30-day Rolling Std')\n",
    "plt.legend()\n",
    "plt.title('Sales with Rolling Mean and Std (Stationarity Check)')\n",
    "plt.show()"
   ]
  },
  {
   "cell_type": "markdown",
   "id": "38aa01bd",
   "metadata": {},
   "source": [
    "## 6. Train-Test Split\n",
    "Split the time series into training and test sets for model validation."
   ]
  },
  {
   "cell_type": "code",
   "execution_count": null,
   "id": "e93f2158",
   "metadata": {},
   "outputs": [],
   "source": [
    "# Split data into train and test sets (e.g., last 3 months for testing)\n",
    "test_size = 90  # days\n",
    "ts = df_filtered['sales']\n",
    "train, test = ts[:-test_size], ts[-test_size:]\n",
    "\n",
    "plt.figure(figsize=(12, 5))\n",
    "plt.plot(train, label='Train')\n",
    "plt.plot(test, label='Test')\n",
    "plt.title('Train-Test Split')\n",
    "plt.xlabel('Date')\n",
    "plt.ylabel('Sales')\n",
    "plt.legend()\n",
    "plt.show()"
   ]
  },
  {
   "cell_type": "markdown",
   "id": "73d557ad",
   "metadata": {},
   "source": [
    "## 7. ARIMA Modeling\n",
    "Fit an ARIMA model to the training data, tune parameters, and forecast sales. Plot predictions vs actuals."
   ]
  },
  {
   "cell_type": "code",
   "execution_count": null,
   "id": "299ed539",
   "metadata": {},
   "outputs": [],
   "source": [
    "# Fit ARIMA model (order can be tuned based on ACF/PACF and stationarity)\n",
    "arima_order = (1,1,1)\n",
    "model_arima = ARIMA(train, order=arima_order)\n",
    "model_arima_fit = model_arima.fit()\n",
    "\n",
    "# Forecast\n",
    "y_pred_arima = model_arima_fit.forecast(steps=len(test))\n",
    "\n",
    "# Plot predictions vs actuals\n",
    "plt.figure(figsize=(12, 5))\n",
    "plt.plot(train, label='Train')\n",
    "plt.plot(test, label='Test')\n",
    "plt.plot(test.index, y_pred_arima, label='ARIMA Forecast')\n",
    "plt.title('ARIMA Model Forecast')\n",
    "plt.xlabel('Date')\n",
    "plt.ylabel('Sales')\n",
    "plt.legend()\n",
    "plt.show()\n",
    "\n",
    "# Calculate metrics\n",
    "arima_rmse = np.sqrt(mean_squared_error(test, y_pred_arima))\n",
    "arima_mae = mean_absolute_error(test, y_pred_arima)\n",
    "print(f'ARIMA RMSE: {arima_rmse:.2f}')\n",
    "print(f'ARIMA MAE: {arima_mae:.2f}')"
   ]
  },
  {
   "cell_type": "markdown",
   "id": "40c300e7",
   "metadata": {},
   "source": [
    "## 8. SARIMAX Modeling\n",
    "Fit a SARIMAX model to the training data, tune seasonal parameters, and forecast sales. Plot predictions vs actuals."
   ]
  },
  {
   "cell_type": "code",
   "execution_count": null,
   "id": "7769c5fe",
   "metadata": {},
   "outputs": [],
   "source": [
    "# Fit SARIMAX model (seasonal order can be tuned based on data)\n",
    "sarimax_order = (1,1,1)\n",
    "seasonal_order = (1,1,1,7)  # Weekly seasonality as an example\n",
    "model_sarimax = SARIMAX(train, order=sarimax_order, seasonal_order=seasonal_order)\n",
    "model_sarimax_fit = model_sarimax.fit(disp=False)\n",
    "\n",
    "# Forecast\n",
    "y_pred_sarimax = model_sarimax_fit.forecast(steps=len(test))\n",
    "\n",
    "# Plot predictions vs actuals\n",
    "plt.figure(figsize=(12, 5))\n",
    "plt.plot(train, label='Train')\n",
    "plt.plot(test, label='Test')\n",
    "plt.plot(test.index, y_pred_sarimax, label='SARIMAX Forecast')\n",
    "plt.title('SARIMAX Model Forecast')\n",
    "plt.xlabel('Date')\n",
    "plt.ylabel('Sales')\n",
    "plt.legend()\n",
    "plt.show()\n",
    "\n",
    "# Calculate metrics\n",
    "sarimax_rmse = np.sqrt(mean_squared_error(test, y_pred_sarimax))\n",
    "sarimax_mae = mean_absolute_error(test, y_pred_sarimax)\n",
    "print(f'SARIMAX RMSE: {sarimax_rmse:.2f}')\n",
    "print(f'SARIMAX MAE: {sarimax_mae:.2f}')"
   ]
  },
  {
   "cell_type": "markdown",
   "id": "57fc0373",
   "metadata": {},
   "source": [
    "## 9. Model Evaluation and Comparison\n",
    "Evaluate both models using RMSE and MAE, and compare their performance."
   ]
  },
  {
   "cell_type": "code",
   "execution_count": null,
   "id": "48b12206",
   "metadata": {},
   "outputs": [],
   "source": [
    "# Compare model performance\n",
    "print(f'ARIMA RMSE: {arima_rmse:.2f}, MAE: {arima_mae:.2f}')\n",
    "print(f'SARIMAX RMSE: {sarimax_rmse:.2f}, MAE: {sarimax_mae:.2f}')\n",
    "\n",
    "if sarimax_rmse < arima_rmse:\n",
    "    print('SARIMAX performs better for this time series.')\n",
    "else:\n",
    "    print('ARIMA performs better for this time series.')"
   ]
  },
  {
   "cell_type": "markdown",
   "id": "1938735c",
   "metadata": {},
   "source": [
    "## 10. Forecast Future Sales with Best Model\n",
    "Use the better-performing model to forecast future sales and visualize the results."
   ]
  },
  {
   "cell_type": "code",
   "execution_count": null,
   "id": "805e16ba",
   "metadata": {},
   "outputs": [],
   "source": [
    "# Forecast future sales (next 30 days) with the best model\n",
    "future_steps = 30\n",
    "if sarimax_rmse < arima_rmse:\n",
    "    model = SARIMAX(ts, order=sarimax_order, seasonal_order=seasonal_order)\n",
    "    model_fit = model.fit(disp=False)\n",
    "    forecast = model_fit.forecast(steps=future_steps)\n",
    "    model_name = 'SARIMAX'\n",
    "else:\n",
    "    model = ARIMA(ts, order=arima_order)\n",
    "    model_fit = model.fit()\n",
    "    forecast = model_fit.forecast(steps=future_steps)\n",
    "    model_name = 'ARIMA'\n",
    "\n",
    "# Plot the forecast\n",
    "plt.figure(figsize=(12, 5))\n",
    "plt.plot(ts, label='Historical Sales')\n",
    "plt.plot(pd.date_range(ts.index[-1], periods=future_steps+1, freq='D')[1:], forecast, label=f'{model_name} Forecast')\n",
    "plt.title(f'Future Sales Forecast ({model_name})')\n",
    "plt.xlabel('Date')\n",
    "plt.ylabel('Sales')\n",
    "plt.legend()\n",
    "plt.show()\n",
    "\n",
    "forecast"
   ]
  }
 ],
 "metadata": {
  "language_info": {
   "name": "python"
  }
 },
 "nbformat": 4,
 "nbformat_minor": 5
}
